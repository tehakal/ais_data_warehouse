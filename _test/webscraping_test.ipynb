{
 "cells": [
  {
   "cell_type": "markdown",
   "metadata": {},
   "source": [
    "# Stand:\n",
    "- next page button funktionier\n",
    "- alle 100 einträge pro seite funktionieren\n",
    "  \n",
    "# To-DO:\n",
    "1. code schipsel zusammenknüpfen, sodass über alle seiten iteriert wird\n",
    "   1. evt. checken ob es auch für andere willhaben links funktioniert\n",
    "2. daten extrahieren (am besten mit dem code was wir schon bei dir geschrieben haben) und in ein pandas data frame schreiben"
   ]
  },
  {
   "cell_type": "code",
   "execution_count": 1,
   "metadata": {},
   "outputs": [],
   "source": [
    "import bs4 as bs\n",
    "import pandas as pd\n",
    "from selenium import webdriver\n",
    "import re as re\n",
    "import psycopg2 as pg"
   ]
  },
  {
   "cell_type": "code",
   "execution_count": 2,
   "metadata": {},
   "outputs": [
    {
     "name": "stderr",
     "output_type": "stream",
     "text": [
      "C:\\Users\\thoma\\AppData\\Local\\Temp\\ipykernel_9956\\2005817355.py:2: DeprecationWarning: executable_path has been deprecated, please pass in a Service object\n",
      "  driver = webdriver.Chrome('C:/Users/thoma/chromedriver/chromedriver.exe')\n"
     ]
    }
   ],
   "source": [
    "# create browser and launch website\n",
    "driver = webdriver.Chrome('C:/Users/thoma/chromedriver/chromedriver.exe')\n",
    "driver.get('https://www.willhaben.at/iad/immobilien/immobilien/vorarlberg?rows=100')\n",
    "\n",
    "# remove privacy notice\n",
    "privacy_deny = driver.find_element('xpath','//*[@id=\"didomi-notice-disagree-button\"]')\n",
    "\n",
    "privacy_deny.click()"
   ]
  },
  {
   "cell_type": "code",
   "execution_count": 3,
   "metadata": {},
   "outputs": [],
   "source": [
    "# scroll slowly through page\n",
    "page_height = driver.execute_script(\"return document.documentElement.scrollHeight\")\n",
    "current_height = 0\n",
    "while current_height < page_height:\n",
    "    current_height += 250\n",
    "    driver.execute_script(\"window.scrollTo(0,\" + str(current_height) + \")\")"
   ]
  },
  {
   "cell_type": "code",
   "execution_count": null,
   "metadata": {},
   "outputs": [],
   "source": [
    "# iterate through found elements\n",
    "i = 0\n",
    "elements = driver.find_elements('css selector','.Box-sc-wfmb7k-0.ResultListAdRowLayout___StyledBox-sc-1rmys2w-0.ginNzk.dZyCtF')\n",
    "for elem in elements:\n",
    "    i = i + 1\n",
    "    elem_html = elem.get_attribute('innerHTML')\n",
    "\n",
    "    elem_soup = bs.BeautifulSoup(elem_html, 'html.parser')\n",
    "    print('\\n')\n",
    "    print(i)\n",
    "    print(re.search(pat_room, str(elem_soup)))\n",
    "    print(re.search(pat_footage, str(elem_soup)))\n",
    "    if i == 6 or i == 1:\n",
    "        pass\n",
    "        print(str(elem_soup))\n",
    "\n"
   ]
  },
  {
   "cell_type": "code",
   "execution_count": 21,
   "metadata": {},
   "outputs": [],
   "source": [
    "pat_room = re.compile(r'\\d+(?=<\\/span><span class=\\\"Text-sc-10o2fdq-0 iyzLep\\\"> (<!-- -->)?Zimmer)')\n",
    "pat_footage = re.compile(r'\\d+(?=</span><span class=\\\"Text-sc-10o2fdq-0 iyzLep\\\"> (<!-- -->)?m²)')"
   ]
  },
  {
   "cell_type": "code",
   "execution_count": 18,
   "metadata": {},
   "outputs": [],
   "source": [
    "pat_room = re.compile(r'\\d+(?=<\\/span><span class=\\\"Text-sc-10o2fdq-0 iyzLep\\\"> Zimmer)')\n",
    "pat_footage = re.compile(r'\\d+(?=<\\/span><span class=\\\"Text-sc-10o2fdq-0 iyzLep\\\"> m²)')"
   ]
  },
  {
   "cell_type": "code",
   "execution_count": 214,
   "metadata": {},
   "outputs": [
    {
     "name": "stdout",
     "output_type": "stream",
     "text": [
      "<a tabindex=\"-1\" aria-label=\"Weiter zur nächsten Seite\" class=\"Button__ButtonContainer-sc-3uaafx-0 jBEXJe Pagination__PaginationButton-sc-zvrf30-1 bdlOdT\" type=\"button\" data-testid=\"pagination-top-next-button\" aria-disabled=\"true\" disabled=\"\">Weiter</a>\n",
      "0\n"
     ]
    }
   ],
   "source": [
    "# go to next page\n",
    "next_page = driver.find_element('xpath','//*[@id=\"skip-to-content\"]/div/div[4]/div[2]/div[2]/div[1]/div[2]/div[1]/nav/ul/li[6]')\n",
    "next_page_html = next_page.get_attribute('innerHTML')\n",
    "\n",
    "next_page.click()"
   ]
  },
  {
   "cell_type": "code",
   "execution_count": null,
   "metadata": {},
   "outputs": [],
   "source": [
    "# check if link is contained in button, if len = 0 -> no more pages\n",
    "href_pattern = re.compile(r'href=\"')\n",
    "print(len(re.findall(href_pattern, str(next_page_html))))"
   ]
  }
 ],
 "metadata": {
  "interpreter": {
   "hash": "58398d3572f765670282d9fbf180d07778597ee6e294e71c755df0a460e1dfbd"
  },
  "kernelspec": {
   "display_name": "Python 3.10.2 ('term2_dqd')",
   "language": "python",
   "name": "python3"
  },
  "language_info": {
   "codemirror_mode": {
    "name": "ipython",
    "version": 3
   },
   "file_extension": ".py",
   "mimetype": "text/x-python",
   "name": "python",
   "nbconvert_exporter": "python",
   "pygments_lexer": "ipython3",
   "version": "3.9.10"
  },
  "orig_nbformat": 4
 },
 "nbformat": 4,
 "nbformat_minor": 2
}
