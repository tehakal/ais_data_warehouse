{
 "cells": [
  {
   "cell_type": "markdown",
   "metadata": {},
   "source": [
    "# Stand:\n",
    "- next page button funktionier\n",
    "- alle 100 einträge pro seite funktionieren\n",
    "  \n",
    "# To-DO:\n",
    "1. code schipsel zusammenknüpfen, sodass über alle seiten iteriert wird\n",
    "   1. evt. checken ob es auch für andere willhaben links funktioniert\n",
    "2. daten extrahieren (am besten mit dem code was wir schon bei dir geschrieben haben) und in ein pandas data frame schreiben"
   ]
  },
  {
   "cell_type": "code",
   "execution_count": 12,
   "metadata": {},
   "outputs": [],
   "source": [
    "import bs4 as bs\n",
    "import pandas as pd\n",
    "from selenium import webdriver\n",
    "import re as re\n",
    "import psycopg2 as pg\n",
    "from selenium.webdriver.chrome.service import Service\n",
    "from selenium.webdriver.chrome.options import Options\n",
    "\n"
   ]
  },
  {
   "cell_type": "code",
   "execution_count": 2,
   "metadata": {},
   "outputs": [
    {
     "name": "stderr",
     "output_type": "stream",
     "text": [
      "C:\\Users\\thoma\\AppData\\Local\\Temp\\ipykernel_12028\\3960068653.py:2: DeprecationWarning: executable_path has been deprecated, please pass in a Service object\n",
      "  driver = webdriver.Chrome('C:/Users/thoma/chromedriver/chromedriver.exe')\n"
     ]
    }
   ],
   "source": [
    "# create browser and launch website\n",
    "driver = webdriver.Chrome('C:/Users/thoma/chromedriver/chromedriver.exe')\n",
    "driver.get('https://www.willhaben.at/iad/immobilien/eigentumswohnung/eigentumswohnung-angebote?sfId=30fdd1af-4da1-4099-a7d9-dd2f309dd6a7&isNavigation=true&page=1&rows=100')\n",
    "\n",
    "# remove privacy notice\n",
    "privacy_deny = driver.find_element('xpath','//*[@id=\"didomi-notice-disagree-button\"]')\n",
    "\n",
    "privacy_deny.click()"
   ]
  },
  {
   "cell_type": "code",
   "execution_count": 14,
   "metadata": {},
   "outputs": [],
   "source": [
    "s = Service(executable_path=\"C:\\Program Files (x86)\\Google\\Chrome\\Application\\chromedriver.exe\")\n",
    "options = Options()\n",
    "driver = webdriver.Chrome(service=s, options=options)"
   ]
  },
  {
   "cell_type": "code",
   "execution_count": 4,
   "metadata": {},
   "outputs": [],
   "source": [
    "# scroll slowly through page\n",
    "page_height = driver.execute_script(\"return document.documentElement.scrollHeight\")\n",
    "current_height = 0\n",
    "while current_height < page_height:\n",
    "    current_height += 250\n",
    "    driver.execute_script(\"window.scrollTo(0,\" + str(current_height) + \")\")"
   ]
  },
  {
   "cell_type": "code",
   "execution_count": null,
   "metadata": {},
   "outputs": [],
   "source": [
    "//*[@id=\"skip-to-content\"]/div/div[3]/div[2]/div[2]/div[3]/div/nav/ul/li[7]\n",
    "\n",
    "//*[@id=\"skip-to-content\"]/div/div[4]/div[2]/div[2]/div[3]/div/nav/ul/li[7]"
   ]
  },
  {
   "cell_type": "code",
   "execution_count": 32,
   "metadata": {},
   "outputs": [
    {
     "name": "stdout",
     "output_type": "stream",
     "text": [
      "\n",
      "\n",
      "1\n",
      "<re.Match object; span=(2443, 2444), match='3'>\n",
      "<re.Match object; span=(2231, 2233), match='61'>\n"
     ]
    },
    {
     "ename": "TypeError",
     "evalue": "unsupported operand type(s) for -: 'str' and 'str'",
     "output_type": "error",
     "traceback": [
      "\u001b[1;31m---------------------------------------------------------------------------\u001b[0m",
      "\u001b[1;31mTypeError\u001b[0m                                 Traceback (most recent call last)",
      "\u001b[1;32mc:\\Users\\thoma\\OneDrive\\02_fh\\term2\\AIS\\ais_data_warehouse\\_test\\webscraping_test.ipynb Cell 5'\u001b[0m in \u001b[0;36m<cell line: 4>\u001b[1;34m()\u001b[0m\n\u001b[0;32m     <a href='vscode-notebook-cell:/c%3A/Users/thoma/OneDrive/02_fh/term2/AIS/ais_data_warehouse/_test/webscraping_test.ipynb#ch0000004?line=12'>13</a>\u001b[0m \u001b[39mtry\u001b[39;00m:\n\u001b[0;32m     <a href='vscode-notebook-cell:/c%3A/Users/thoma/OneDrive/02_fh/term2/AIS/ais_data_warehouse/_test/webscraping_test.ipynb#ch0000004?line=13'>14</a>\u001b[0m     feat \u001b[39m=\u001b[39m re\u001b[39m.\u001b[39msearch(pat_features, \u001b[39mstr\u001b[39m(elem_soup))\u001b[39m.\u001b[39mgroup(\u001b[39m0\u001b[39m)\n\u001b[1;32m---> <a href='vscode-notebook-cell:/c%3A/Users/thoma/OneDrive/02_fh/term2/AIS/ais_data_warehouse/_test/webscraping_test.ipynb#ch0000004?line=14'>15</a>\u001b[0m     \u001b[39mif\u001b[39;00m \u001b[39m'\u001b[39m\u001b[39m<!-- -->\u001b[39m\u001b[39m'\u001b[39m \u001b[39min\u001b[39;00m feat: feat \u001b[39m=\u001b[39m feat \u001b[39m-\u001b[39m \u001b[39m'\u001b[39m\u001b[39m<!-- -->\u001b[39m\u001b[39m'\u001b[39m\n\u001b[0;32m     <a href='vscode-notebook-cell:/c%3A/Users/thoma/OneDrive/02_fh/term2/AIS/ais_data_warehouse/_test/webscraping_test.ipynb#ch0000004?line=15'>16</a>\u001b[0m \u001b[39mexcept\u001b[39;00m \u001b[39mAttributeError\u001b[39;00m:\n\u001b[0;32m     <a href='vscode-notebook-cell:/c%3A/Users/thoma/OneDrive/02_fh/term2/AIS/ais_data_warehouse/_test/webscraping_test.ipynb#ch0000004?line=16'>17</a>\u001b[0m     feat \u001b[39m=\u001b[39m \u001b[39mNone\u001b[39;00m\n",
      "\u001b[1;31mTypeError\u001b[0m: unsupported operand type(s) for -: 'str' and 'str'"
     ]
    }
   ],
   "source": [
    "# iterate through found elements\n",
    "i = 0\n",
    "elements = driver.find_elements('css selector','.Box-sc-wfmb7k-0.ResultListAdRowLayout___StyledBox-sc-1rmys2w-0.ginNzk.dZyCtF')\n",
    "for elem in elements:\n",
    "    i = i + 1\n",
    "    elem_html = elem.get_attribute('innerHTML')\n",
    "\n",
    "    elem_soup = bs.BeautifulSoup(elem_html, 'html.parser')\n",
    "    print('\\n')\n",
    "    print(i)\n",
    "    print(re.search(pat_room, str(elem_soup)))\n",
    "    print(re.search(pat_footage, str(elem_soup)))\n",
    "    try:\n",
    "        feat = re.search(pat_features, str(elem_soup)).group(0)\n",
    "        if '<!-- -->' in feat: feat = feat - '<!-- -->'\n",
    "    except AttributeError:\n",
    "        feat = None\n",
    "    \n",
    "    print(feat)\n",
    "    try:\n",
    "        print(elem_soup.find(\"div\", class_ = \"Text-sc-10o2fdq-0 brNqZP\").text)\n",
    "    except AttributeError:\n",
    "        print(None)\n",
    "\n"
   ]
  },
  {
   "cell_type": "code",
   "execution_count": 10,
   "metadata": {},
   "outputs": [
    {
     "name": "stdout",
     "output_type": "stream",
     "text": [
      "<a tabindex=\"0\" aria-label=\"Weiter zur nächsten Seite\" class=\"Button__ButtonContainer-sc-3uaafx-0 jBEXJe Pagination__PaginationButton-sc-zvrf30-1 fYvOIb\" href=\"/iad/immobilien/eigentumswohnung/eigentumswohnung-angebote?sfId=30fdd1af-4da1-4099-a7d9-dd2f309dd6a7&amp;isNavigation=true&amp;rows=100&amp;page=2\" type=\"button\" data-testid=\"pagination-bottom-next-button\"><svg xmlns=\"http://www.w3.org/2000/svg\" width=\"1em\" height=\"1em\" viewBox=\"0 0 24 24\" class=\"createSvgIcon__SvgIcon-sc-1vebdtk-0 hwyjDC\" pointer-events=\"none\"><path fill=\"currentColor\" d=\"M7.7 2v20l10-10-10-10z\"></path></svg></a>\n"
     ]
    }
   ],
   "source": [
    "# go to next page\n",
    "next_page = driver.find_element('xpath','/html/body/div[2]/div[1]/div[2]/div[1]/div/div[1]/div[3]/div/div/div[4]/div[2]/div[2]/div[3]/div/nav/ul/li[7]')\n",
    "next_page_html = next_page.get_attribute('innerHTML')\n",
    "\n",
    "print(next_page_html)\n",
    "next_page.click()"
   ]
  },
  {
   "cell_type": "code",
   "execution_count": 29,
   "metadata": {},
   "outputs": [],
   "source": [
    "pat_room = re.compile(r'\\d+(?=<\\/span><span class=\\\"Text-sc-10o2fdq-0 iyzLep\\\"> (<!-- -->)?Zimmer)')\n",
    "pat_footage = re.compile(r'\\d+(?=</span><span class=\\\"Text-sc-10o2fdq-0 iyzLep\\\"> (<!-- -->)?m²)')\n",
    "pat_features = re.compile(r'(?<=<span class=\\\"Text-sc-10o2fdq-0 iyzLep\\\"> )(?:<!-- -->|)[a-zA-Z/\\u00fc\\u00f6\\u00e4\\u00df\\u00dc\\u00d6\\u00c4]*(?=<\\/span>)')"
   ]
  },
  {
   "cell_type": "code",
   "execution_count": null,
   "metadata": {},
   "outputs": [],
   "source": [
    "# check if link is contained in button, if len = 0 -> no more pages\n",
    "href_pattern = re.compile(r'href=\"')\n",
    "print(len(re.findall(href_pattern, str(next_page_html))))"
   ]
  }
 ],
 "metadata": {
  "interpreter": {
   "hash": "58398d3572f765670282d9fbf180d07778597ee6e294e71c755df0a460e1dfbd"
  },
  "kernelspec": {
   "display_name": "Python 3.10.2 ('term2_dqd')",
   "language": "python",
   "name": "python3"
  },
  "language_info": {
   "codemirror_mode": {
    "name": "ipython",
    "version": 3
   },
   "file_extension": ".py",
   "mimetype": "text/x-python",
   "name": "python",
   "nbconvert_exporter": "python",
   "pygments_lexer": "ipython3",
   "version": "3.9.10"
  },
  "orig_nbformat": 4
 },
 "nbformat": 4,
 "nbformat_minor": 2
}
