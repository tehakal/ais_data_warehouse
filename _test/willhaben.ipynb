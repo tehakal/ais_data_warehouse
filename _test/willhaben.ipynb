{
 "cells": [
  {
   "cell_type": "code",
   "execution_count": 183,
   "metadata": {},
   "outputs": [],
   "source": [
    "from bs4 import BeautifulSoup\n",
    "#from lxml import html\n",
    "import requests\n",
    "import re\n",
    "#import urllib\n",
    "from selenium import webdriver\n",
    "import time"
   ]
  },
  {
   "cell_type": "markdown",
   "metadata": {},
   "source": [
    "preferred: (not working. Vermutlich Javascript rendert das davor)"
   ]
  },
  {
   "cell_type": "code",
   "execution_count": 181,
   "metadata": {},
   "outputs": [],
   "source": [
    "source = requests.get(\"https://www.willhaben.at/iad/immobilien/mietwohnungen/mietwohnung-angebote?sfId=c5f1dd61-8fb8-4c36-b00a-da5f5fc19ac4&isNavigation=true\").text            #gives us the html of the website\n",
    "soup = BeautifulSoup(source, \"lxml\")\n",
    "\n",
    "#print(soup.prettify())\n",
    "\n",
    "\n",
    "\n",
    "# page = requests.get('https://www.willhaben.at/iad/immobilien/mietwohnungen/mietwohnung-angebote?sfId=c5f1dd61-8fb8-4c36-b00a-da5f5fc19ac4&isNavigation=true')\n",
    "# tree = html.fromstring(page.content)\n",
    "\n",
    "# my_request = urllib.request.urlopen(\"https://www.willhaben.at/iad/immobilien/mietwohnungen/mietwohnung-angebote?sfId=c5f1dd61-8fb8-4c36-b00a-da5f5fc19ac4&isNavigation=true\")\n",
    "# my_HTML = my_request.read().decode(\"utf8\")"
   ]
  },
  {
   "cell_type": "markdown",
   "metadata": {},
   "source": [
    "Versuch mit Selenium"
   ]
  },
  {
   "cell_type": "code",
   "execution_count": 187,
   "metadata": {},
   "outputs": [
    {
     "ename": "AttributeError",
     "evalue": "module 'selenium.webdriver' has no attribute 'execute_script'",
     "output_type": "error",
     "traceback": [
      "\u001b[1;31m---------------------------------------------------------------------------\u001b[0m",
      "\u001b[1;31mAttributeError\u001b[0m                            Traceback (most recent call last)",
      "\u001b[1;32mC:\\Users\\MANUEL~1.WOL\\AppData\\Local\\Temp/ipykernel_17404/617992807.py\u001b[0m in \u001b[0;36m<module>\u001b[1;34m\u001b[0m\n\u001b[0;32m      1\u001b[0m \u001b[0mbrowser\u001b[0m \u001b[1;33m=\u001b[0m \u001b[0mwebdriver\u001b[0m\u001b[1;33m.\u001b[0m\u001b[0mChrome\u001b[0m\u001b[1;33m(\u001b[0m\u001b[1;33m)\u001b[0m\u001b[1;33m\u001b[0m\u001b[1;33m\u001b[0m\u001b[0m\n\u001b[0;32m      2\u001b[0m \u001b[0mbrowser\u001b[0m\u001b[1;33m.\u001b[0m\u001b[0mget\u001b[0m\u001b[1;33m(\u001b[0m\u001b[1;34m\"https://www.willhaben.at/iad/immobilien/mietwohnungen/mietwohnung-angebote?sfId=c5f1dd61-8fb8-4c36-b00a-da5f5fc19ac4&isNavigation=true\"\u001b[0m\u001b[1;33m)\u001b[0m\u001b[1;33m\u001b[0m\u001b[1;33m\u001b[0m\u001b[0m\n\u001b[1;32m----> 3\u001b[1;33m \u001b[0mwebdriver\u001b[0m\u001b[1;33m.\u001b[0m\u001b[0mexecute_script\u001b[0m\u001b[1;33m(\u001b[0m\u001b[1;34m\"window.scrollTo(0, 4000)\"\u001b[0m\u001b[1;33m)\u001b[0m\u001b[1;33m\u001b[0m\u001b[1;33m\u001b[0m\u001b[0m\n\u001b[0m\u001b[0;32m      4\u001b[0m \u001b[1;33m\u001b[0m\u001b[0m\n\u001b[0;32m      5\u001b[0m \u001b[0mhtml\u001b[0m \u001b[1;33m=\u001b[0m \u001b[0mbrowser\u001b[0m\u001b[1;33m.\u001b[0m\u001b[0mpage_source\u001b[0m\u001b[1;33m\u001b[0m\u001b[1;33m\u001b[0m\u001b[0m\n",
      "\u001b[1;31mAttributeError\u001b[0m: module 'selenium.webdriver' has no attribute 'execute_script'"
     ]
    }
   ],
   "source": [
    "browser = webdriver.Chrome()\n",
    "browser.get(\"https://www.willhaben.at/iad/immobilien/mietwohnungen/mietwohnung-angebote?sfId=c5f1dd61-8fb8-4c36-b00a-da5f5fc19ac4&isNavigation=true\")\n",
    "webdriver.execute_script(\"window.scrollTo(0, 4000)\") \n",
    "\n",
    "html = browser.page_source\n",
    "time.sleep(10)\n",
    "print(html)\n",
    "\n",
    "browser.close()"
   ]
  },
  {
   "cell_type": "markdown",
   "metadata": {},
   "source": [
    "# einzelnes Inserat"
   ]
  },
  {
   "cell_type": "code",
   "execution_count": 138,
   "metadata": {},
   "outputs": [],
   "source": [
    "div_html = soup.find(\"div\")\n",
    "#print(div_html.prettify())\n",
    "\n",
    "box_html = div_html.find(\"div\", class_=\"Box-sc-wfmb7k-0 ResultListAdRowLayout___StyledBox-sc-1rmys2w-0 ginNzk dZyCtF\")\n",
    "title = div_html.find(\"div\", class_=\"Box-sc-wfmb7k-0 ResultListAdRowLayout___StyledBox-sc-1rmys2w-0 ginNzk dZyCtF\").a.h3.text\n",
    "#print(title)\n",
    "\n",
    "ort = box_html.find(\"div\", class_=\"Box-sc-wfmb7k-0 khvLsE\").text\n",
    "square_footage = box_html.find(\"div\", class_=\"Text-sc-10o2fdq-0 iLQwFF\").text\n",
    "number_rooms_long = box_html.find_all(\"div\", class_=\"Text-sc-10o2fdq-0 iLQwFF\")\n",
    "feature_apartment = box_html.find(\"div\", class_ = \"Text-sc-10o2fdq-0 brNqZP\").text\n",
    "price = box_html.find(\"span\", class_ =\"Text-sc-10o2fdq-0 eRKVmh\").text\n",
    "anbieter = box_html.find(\"span\", class_ = \"Text-sc-10o2fdq-0 flpYRE\").text\n",
    "\n",
    "pattern_fottage_rooms = re.compile(r'(?<=\\>)\\d+(?=\\<\\/span)')\n",
    "number_of_rooms = re.findall(pattern_fottage_rooms, str(number_rooms_long))[1]\n",
    "\n",
    "#verwenden von Regex wenn es zu Fehlern kommen sollte durch .text bei price und anbieter\n",
    "#pattern_price = re.compile(r'(?<=€ )[0-9\\.]+(?=)')\n",
    "#price_extract = re.findall(pattern_price, str(price))[0]\n"
   ]
  },
  {
   "cell_type": "markdown",
   "metadata": {},
   "source": [
    "Zwischenkopiert für Testzwecke"
   ]
  },
  {
   "cell_type": "code",
   "execution_count": 139,
   "metadata": {},
   "outputs": [
    {
     "name": "stdout",
     "output_type": "stream",
     "text": [
      "8010 Graz, Steyrerg. 61\n",
      "€ 710\n",
      "8010 Graz, Steyrerg. 61\n",
      "€ 710\n"
     ]
    },
    {
     "ename": "AttributeError",
     "evalue": "'NoneType' object has no attribute 'a'",
     "output_type": "error",
     "traceback": [
      "\u001b[1;31m---------------------------------------------------------------------------\u001b[0m",
      "\u001b[1;31mAttributeError\u001b[0m                            Traceback (most recent call last)",
      "\u001b[1;32mC:\\Users\\MANUEL~1.WOL\\AppData\\Local\\Temp/ipykernel_17404/4109194209.py\u001b[0m in \u001b[0;36m<module>\u001b[1;34m\u001b[0m\n\u001b[0;32m      3\u001b[0m     \u001b[0mbox_html\u001b[0m \u001b[1;33m=\u001b[0m \u001b[0mdiv_html\u001b[0m\u001b[1;33m.\u001b[0m\u001b[0mfind\u001b[0m\u001b[1;33m(\u001b[0m\u001b[1;34m\"div\"\u001b[0m\u001b[1;33m,\u001b[0m \u001b[0mclass_\u001b[0m\u001b[1;33m=\u001b[0m\u001b[1;34m\"Box-sc-wfmb7k-0 ResultListAdRowLayout___StyledBox-sc-1rmys2w-0 ginNzk dZyCtF\"\u001b[0m\u001b[1;33m)\u001b[0m\u001b[1;33m\u001b[0m\u001b[1;33m\u001b[0m\u001b[0m\n\u001b[0;32m      4\u001b[0m \u001b[1;33m\u001b[0m\u001b[0m\n\u001b[1;32m----> 5\u001b[1;33m     \u001b[0mtitle\u001b[0m \u001b[1;33m=\u001b[0m \u001b[0mdiv_html\u001b[0m\u001b[1;33m.\u001b[0m\u001b[0mfind\u001b[0m\u001b[1;33m(\u001b[0m\u001b[1;34m\"div\"\u001b[0m\u001b[1;33m,\u001b[0m \u001b[0mclass_\u001b[0m\u001b[1;33m=\u001b[0m\u001b[1;34m\"Box-sc-wfmb7k-0 ResultListAdRowLayout___StyledBox-sc-1rmys2w-0 ginNzk dZyCtF\"\u001b[0m\u001b[1;33m)\u001b[0m\u001b[1;33m.\u001b[0m\u001b[0ma\u001b[0m\u001b[1;33m.\u001b[0m\u001b[0mh3\u001b[0m\u001b[1;33m.\u001b[0m\u001b[0mtext\u001b[0m\u001b[1;33m\u001b[0m\u001b[1;33m\u001b[0m\u001b[0m\n\u001b[0m\u001b[0;32m      6\u001b[0m     \u001b[0mort\u001b[0m \u001b[1;33m=\u001b[0m \u001b[0mbox_html\u001b[0m\u001b[1;33m.\u001b[0m\u001b[0mfind\u001b[0m\u001b[1;33m(\u001b[0m\u001b[1;34m\"div\"\u001b[0m\u001b[1;33m,\u001b[0m \u001b[0mclass_\u001b[0m\u001b[1;33m=\u001b[0m\u001b[1;34m\"Box-sc-wfmb7k-0 khvLsE\"\u001b[0m\u001b[1;33m)\u001b[0m\u001b[1;33m.\u001b[0m\u001b[0mtext\u001b[0m\u001b[1;33m\u001b[0m\u001b[1;33m\u001b[0m\u001b[0m\n\u001b[0;32m      7\u001b[0m     \u001b[0msquare_footage\u001b[0m \u001b[1;33m=\u001b[0m \u001b[0mbox_html\u001b[0m\u001b[1;33m.\u001b[0m\u001b[0mfind\u001b[0m\u001b[1;33m(\u001b[0m\u001b[1;34m\"div\"\u001b[0m\u001b[1;33m,\u001b[0m \u001b[0mclass_\u001b[0m\u001b[1;33m=\u001b[0m\u001b[1;34m\"Text-sc-10o2fdq-0 iLQwFF\"\u001b[0m\u001b[1;33m)\u001b[0m\u001b[1;33m.\u001b[0m\u001b[0mtext\u001b[0m\u001b[1;33m\u001b[0m\u001b[1;33m\u001b[0m\u001b[0m\n",
      "\u001b[1;31mAttributeError\u001b[0m: 'NoneType' object has no attribute 'a'"
     ]
    }
   ],
   "source": [
    "for div_html in soup.find_all(\"div\"):\n",
    "\n",
    "    box_html = div_html.find(\"div\", class_=\"Box-sc-wfmb7k-0 ResultListAdRowLayout___StyledBox-sc-1rmys2w-0 ginNzk dZyCtF\")\n",
    "    \n",
    "    title = div_html.find(\"div\", class_=\"Box-sc-wfmb7k-0 ResultListAdRowLayout___StyledBox-sc-1rmys2w-0 ginNzk dZyCtF\").a.h3.text\n",
    "    ort = box_html.find(\"div\", class_=\"Box-sc-wfmb7k-0 khvLsE\").text\n",
    "    square_footage = box_html.find(\"div\", class_=\"Text-sc-10o2fdq-0 iLQwFF\").text\n",
    "    number_rooms_long = box_html.find_all(\"div\", class_=\"Text-sc-10o2fdq-0 iLQwFF\")\n",
    "    feature_apartment = box_html.find(\"div\", class_ = \"Text-sc-10o2fdq-0 brNqZP\").text\n",
    "    price = box_html.find(\"span\", class_ =\"Text-sc-10o2fdq-0 eRKVmh\").text\n",
    "    anbieter = box_html.find(\"span\", class_ = \"Text-sc-10o2fdq-0 flpYRE\").text\n",
    "\n",
    "    pattern_fottage_rooms = re.compile(r'(?<=\\>)\\d+(?=\\<\\/span)')\n",
    "    number_of_rooms = re.findall(pattern_fottage_rooms, str(number_rooms_long))[1]\n",
    "    \n",
    "    print(ort)\n",
    "    print(price)"
   ]
  },
  {
   "cell_type": "markdown",
   "metadata": {},
   "source": [
    "# alle Inserate einer Seite"
   ]
  },
  {
   "cell_type": "code",
   "execution_count": 154,
   "metadata": {},
   "outputs": [
    {
     "name": "stdout",
     "output_type": "stream",
     "text": [
      "0\n",
      "1\n",
      "1\n",
      "2\n",
      "2\n"
     ]
    }
   ],
   "source": [
    "i = 0\n",
    "count = 0\n",
    "\n",
    "for box_html in soup.find_all(\"div\", class_ =\"Box-sc-wfmb7k-0 ResultListAdRowLayout___StyledBox-sc-1rmys2w-0 ginNzk dZyCtF\"):\n",
    "\n",
    "    try:\n",
    "        title = box_html.find(\"h3\", class_=\"Text-sc-10o2fdq-0 kQBDHL\").text\n",
    "        ort = box_html.find(\"div\", class_=\"Box-sc-wfmb7k-0 khvLsE\").text\n",
    "        square_footage = box_html.find(\"div\", class_=\"Text-sc-10o2fdq-0 iLQwFF\").text\n",
    "        number_rooms_long = box_html.find_all(\"div\", class_=\"Text-sc-10o2fdq-0 iLQwFF\")\n",
    "        feature_apartment = box_html.find(\"div\", class_ = \"Text-sc-10o2fdq-0 brNqZP\").text\n",
    "        price = box_html.find(\"span\", class_ =\"Text-sc-10o2fdq-0 eRKVmh\").text\n",
    "        anbieter = box_html.find(\"span\", class_ = \"Text-sc-10o2fdq-0 flpYRE\").text\n",
    "\n",
    "        pattern_fottage_rooms = re.compile(r'(?<=\\>)\\d+(?=\\<\\/span)')\n",
    "        number_of_rooms = re.findall(pattern_fottage_rooms, str(number_rooms_long))[1]\n",
    "    except Exception as e:\n",
    "        title = \"yolo\"\n",
    "        i += 1\n",
    "    \n",
    "    count = count + 1\n",
    "    \n",
    "    # print(count)\n",
    "    # print()\n",
    "    # print(square_footage)\n",
    "    # print(price)\n",
    "    # print(feature_apartment)\n",
    "    # print(anbieter)\n",
    "    # print(number_of_rooms)\n",
    "    print(i)\n",
    "    "
   ]
  },
  {
   "cell_type": "code",
   "execution_count": null,
   "metadata": {},
   "outputs": [],
   "source": []
  },
  {
   "cell_type": "code",
   "execution_count": null,
   "metadata": {},
   "outputs": [],
   "source": []
  }
 ],
 "metadata": {
  "interpreter": {
   "hash": "1472d720bea0581ff5fb23b76c68bff55dcf9a98cb1e068ce7e3e1391a3cf7fd"
  },
  "kernelspec": {
   "display_name": "Python 3.9.7 ('base')",
   "language": "python",
   "name": "python3"
  },
  "language_info": {
   "codemirror_mode": {
    "name": "ipython",
    "version": 3
   },
   "file_extension": ".py",
   "mimetype": "text/x-python",
   "name": "python",
   "nbconvert_exporter": "python",
   "pygments_lexer": "ipython3",
   "version": "3.9.7"
  },
  "orig_nbformat": 4
 },
 "nbformat": 4,
 "nbformat_minor": 2
}
