{
 "cells": [
  {
   "cell_type": "markdown",
   "metadata": {},
   "source": [
    "## Initialization of the Data Warehouse\n",
    "by Daniel Kavic\n"
   ]
  },
  {
   "cell_type": "code",
   "execution_count": 1,
   "metadata": {},
   "outputs": [],
   "source": [
    "from modules.data_warehouse import DataWarehouse\n",
    "from modules.Enumerators import HousingType, RealEstateType"
   ]
  },
  {
   "cell_type": "code",
   "execution_count": 2,
   "metadata": {},
   "outputs": [
    {
     "name": "stderr",
     "output_type": "stream",
     "text": [
      "c:\\Users\\dat\\Dropbox\\DANIEL\\FH_Joanneum\\2.Semester\\Analytische_Informationssysteme\\Projekt\\modules\\data_warehouse.py:53: FutureWarning: The default value of regex will change from True to False in a future version. In addition, single character regular expressions will *not* be treated as literal strings when regex=True.\n",
      "  df[\"price\"] = df[\"price\"].str.replace(\".\", \"\")\n"
     ]
    }
   ],
   "source": [
    "def initialize_dwh(table:str, drop_dim_fact_tables:bool, \n",
    "                    housing_type:HousingType, real_estate_type:RealEstateType):\n",
    "    dwh = DataWarehouse(table=table, drop_dim_fact_tables=drop_dim_fact_tables)\n",
    "    dwh.persist_data(housing_type=housing_type, real_estate_type=real_estate_type)\n",
    "    \n",
    "initialize_dwh(table=\"flat_buy_v2\", drop_dim_fact_tables=True, \n",
    "               housing_type=HousingType.BUY, real_estate_type=RealEstateType.FLAT)\n",
    "\n",
    "\n",
    "initialize_dwh(table=\"flat_rent\", drop_dim_fact_tables=False, \n",
    "               housing_type=HousingType.RENT, real_estate_type=RealEstateType.FLAT)\n",
    "\n",
    "\n",
    "initialize_dwh(table=\"house_buy\", drop_dim_fact_tables=False, \n",
    "               housing_type=HousingType.BUY, real_estate_type=RealEstateType.HOUSE)\n",
    "\n",
    "\n",
    "initialize_dwh(table=\"house_rent\", drop_dim_fact_tables=False, \n",
    "               housing_type=HousingType.RENT, real_estate_type=RealEstateType.HOUSE)\n"
   ]
  }
 ],
 "metadata": {
  "interpreter": {
   "hash": "89c6cd214f1f2f5cc6cf266f8fdc278b3891a7c3e066d2a0252f6f80e09d7309"
  },
  "kernelspec": {
   "display_name": "Python 3.7.11 ('fh_env')",
   "language": "python",
   "name": "python3"
  },
  "language_info": {
   "codemirror_mode": {
    "name": "ipython",
    "version": 3
   },
   "file_extension": ".py",
   "mimetype": "text/x-python",
   "name": "python",
   "nbconvert_exporter": "python",
   "pygments_lexer": "ipython3",
   "version": "3.7.11"
  },
  "orig_nbformat": 4
 },
 "nbformat": 4,
 "nbformat_minor": 2
}
